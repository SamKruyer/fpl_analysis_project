{
 "cells": [
  {
   "cell_type": "markdown",
   "id": "dfeb8242-1ede-46d7-b179-b79a6684448e",
   "metadata": {},
   "source": [
    "# Player Analysis\n",
    "In this Jupyter notebook, I utilize FPL player data from 2024-2025 to dig deeper into top performers and the value of different positions within the game."
   ]
  },
  {
   "cell_type": "code",
   "execution_count": 3,
   "id": "061c6a9e-7015-49b9-bf79-60badbddaadd",
   "metadata": {},
   "outputs": [],
   "source": [
    "import pandas as pd\n",
    "import requests, json\n",
    "from matplotlib import pyplot as plt\n",
    "import seaborn as sns\n",
    "import numpy as np"
   ]
  },
  {
   "cell_type": "code",
   "execution_count": 4,
   "id": "75ed0966-bb05-4aef-aeea-ad799b922508",
   "metadata": {},
   "outputs": [
    {
     "name": "stdout",
     "output_type": "stream",
     "text": [
      "<class 'pandas.core.frame.DataFrame'>\n",
      "RangeIndex: 20217 entries, 0 to 20216\n",
      "Data columns (total 42 columns):\n",
      " #   Column                      Non-Null Count  Dtype  \n",
      "---  ------                      --------------  -----  \n",
      " 0   element                     20217 non-null  int64  \n",
      " 1   fixture                     20217 non-null  int64  \n",
      " 2   opponent_team_id            20217 non-null  int64  \n",
      " 3   total_points                20217 non-null  int64  \n",
      " 4   was_home                    20217 non-null  bool   \n",
      " 5   kickoff_time                20217 non-null  object \n",
      " 6   team_h_score                20217 non-null  int64  \n",
      " 7   team_a_score                20217 non-null  int64  \n",
      " 8   round                       20217 non-null  int64  \n",
      " 9   modified                    20217 non-null  bool   \n",
      " 10  minutes                     20217 non-null  int64  \n",
      " 11  goals_scored                20217 non-null  int64  \n",
      " 12  assists                     20217 non-null  int64  \n",
      " 13  clean_sheets                20217 non-null  int64  \n",
      " 14  goals_conceded              20217 non-null  int64  \n",
      " 15  own_goals                   20217 non-null  int64  \n",
      " 16  penalties_saved             20217 non-null  int64  \n",
      " 17  penalties_missed            20217 non-null  int64  \n",
      " 18  yellow_cards                20217 non-null  int64  \n",
      " 19  red_cards                   20217 non-null  int64  \n",
      " 20  saves                       20217 non-null  int64  \n",
      " 21  bonus                       20217 non-null  int64  \n",
      " 22  bps                         20217 non-null  int64  \n",
      " 23  influence                   20217 non-null  float64\n",
      " 24  creativity                  20217 non-null  float64\n",
      " 25  threat                      20217 non-null  float64\n",
      " 26  ict_index                   20217 non-null  float64\n",
      " 27  starts                      20217 non-null  int64  \n",
      " 28  expected_goals              20217 non-null  float64\n",
      " 29  expected_assists            20217 non-null  float64\n",
      " 30  expected_goal_involvements  20217 non-null  float64\n",
      " 31  expected_goals_conceded     20217 non-null  float64\n",
      " 32  value                       20217 non-null  int64  \n",
      " 33  transfers_balance           20217 non-null  int64  \n",
      " 34  selected                    20217 non-null  int64  \n",
      " 35  transfers_in                20217 non-null  int64  \n",
      " 36  transfers_out               20217 non-null  int64  \n",
      " 37  player_id                   20217 non-null  int64  \n",
      " 38  player_name                 20217 non-null  object \n",
      " 39  team_name                   20217 non-null  object \n",
      " 40  position                    20217 non-null  object \n",
      " 41  opponent_team_name          20217 non-null  object \n",
      "dtypes: bool(2), float64(8), int64(27), object(5)\n",
      "memory usage: 6.2+ MB\n"
     ]
    }
   ],
   "source": [
    "players_weekly_df = pd.read_csv('player_weekly_history.csv')\n",
    "\n",
    "#add in opponent_team name\n",
    "fpl_api_url = 'https://fantasy.premierleague.com/api/'\n",
    "\n",
    "# get data from bootstrap-static endpoint\n",
    "r = requests.get(fpl_api_url+'bootstrap-static/').json()\n",
    "# create teams dataframe \n",
    "teams = pd.json_normalize(r['teams'])\n",
    "teams = teams[['name', 'id']]\n",
    "\n",
    "# merge in opponent team names\n",
    "players_weekly_df = pd.merge(\n",
    "    left=players_weekly_df,\n",
    "    right=teams,\n",
    "    left_on='opponent_team',\n",
    "    right_on='id'\n",
    ")\n",
    "\n",
    "# drop columns not of interest and rename ambiguous column names\n",
    "players_weekly_df = players_weekly_df.drop(players_weekly_df.columns[0], axis=1)\n",
    "players_weekly_df = players_weekly_df.drop(columns=['id', 'mng_win', 'mng_draw', 'mng_loss', 'mng_underdog_win', 'mng_underdog_draw', 'mng_clean_sheets', 'mng_goals_scored'])\n",
    "players_weekly_df = players_weekly_df.rename(columns={'opponent_team': 'opponent_team_id', \n",
    "                                          'name': 'opponent_team_name'})\n",
    "players_weekly_df.info()"
   ]
  },
  {
   "cell_type": "code",
   "execution_count": 5,
   "id": "818fd652-bd88-4cef-9da7-2a6eec3c8c96",
   "metadata": {},
   "outputs": [
    {
     "name": "stdout",
     "output_type": "stream",
     "text": [
      "Top Total Points Performers:\n"
     ]
    },
    {
     "data": {
      "text/html": [
       "<div>\n",
       "<style scoped>\n",
       "    .dataframe tbody tr th:only-of-type {\n",
       "        vertical-align: middle;\n",
       "    }\n",
       "\n",
       "    .dataframe tbody tr th {\n",
       "        vertical-align: top;\n",
       "    }\n",
       "\n",
       "    .dataframe thead th {\n",
       "        text-align: right;\n",
       "    }\n",
       "</style>\n",
       "<table border=\"1\" class=\"dataframe\">\n",
       "  <thead>\n",
       "    <tr style=\"text-align: right;\">\n",
       "      <th></th>\n",
       "      <th>player_name</th>\n",
       "      <th>team_name</th>\n",
       "      <th>position</th>\n",
       "      <th>total_points</th>\n",
       "      <th>points_per_appearance</th>\n",
       "    </tr>\n",
       "  </thead>\n",
       "  <tbody>\n",
       "    <tr>\n",
       "      <th>253</th>\n",
       "      <td>Mohamed Salah</td>\n",
       "      <td>Liverpool</td>\n",
       "      <td>Midfielder</td>\n",
       "      <td>344</td>\n",
       "      <td>9.052632</td>\n",
       "    </tr>\n",
       "    <tr>\n",
       "      <th>77</th>\n",
       "      <td>Bryan Mbeumo</td>\n",
       "      <td>Brentford</td>\n",
       "      <td>Midfielder</td>\n",
       "      <td>236</td>\n",
       "      <td>6.210526</td>\n",
       "    </tr>\n",
       "    <tr>\n",
       "      <th>132</th>\n",
       "      <td>Cole Palmer</td>\n",
       "      <td>Chelsea</td>\n",
       "      <td>Midfielder</td>\n",
       "      <td>214</td>\n",
       "      <td>5.783784</td>\n",
       "    </tr>\n",
       "    <tr>\n",
       "      <th>314</th>\n",
       "      <td>Alexander Isak</td>\n",
       "      <td>Newcastle</td>\n",
       "      <td>Forward</td>\n",
       "      <td>211</td>\n",
       "      <td>6.205882</td>\n",
       "    </tr>\n",
       "    <tr>\n",
       "      <th>344</th>\n",
       "      <td>Chris Wood</td>\n",
       "      <td>Nott'm Forest</td>\n",
       "      <td>Forward</td>\n",
       "      <td>200</td>\n",
       "      <td>5.555556</td>\n",
       "    </tr>\n",
       "  </tbody>\n",
       "</table>\n",
       "</div>"
      ],
      "text/plain": [
       "        player_name      team_name    position  total_points  \\\n",
       "253   Mohamed Salah      Liverpool  Midfielder           344   \n",
       "77     Bryan Mbeumo      Brentford  Midfielder           236   \n",
       "132     Cole Palmer        Chelsea  Midfielder           214   \n",
       "314  Alexander Isak      Newcastle     Forward           211   \n",
       "344      Chris Wood  Nott'm Forest     Forward           200   \n",
       "\n",
       "     points_per_appearance  \n",
       "253               9.052632  \n",
       "77                6.210526  \n",
       "132               5.783784  \n",
       "314               6.205882  \n",
       "344               5.555556  "
      ]
     },
     "metadata": {},
     "output_type": "display_data"
    },
    {
     "name": "stdout",
     "output_type": "stream",
     "text": [
      "\n",
      "Top Points per Appearance Performers:\n"
     ]
    },
    {
     "data": {
      "text/html": [
       "<div>\n",
       "<style scoped>\n",
       "    .dataframe tbody tr th:only-of-type {\n",
       "        vertical-align: middle;\n",
       "    }\n",
       "\n",
       "    .dataframe tbody tr th {\n",
       "        vertical-align: top;\n",
       "    }\n",
       "\n",
       "    .dataframe thead th {\n",
       "        text-align: right;\n",
       "    }\n",
       "</style>\n",
       "<table border=\"1\" class=\"dataframe\">\n",
       "  <thead>\n",
       "    <tr style=\"text-align: right;\">\n",
       "      <th></th>\n",
       "      <th>player_name</th>\n",
       "      <th>team_name</th>\n",
       "      <th>position</th>\n",
       "      <th>total_points</th>\n",
       "      <th>points_per_appearance</th>\n",
       "    </tr>\n",
       "  </thead>\n",
       "  <tbody>\n",
       "    <tr>\n",
       "      <th>253</th>\n",
       "      <td>Mohamed Salah</td>\n",
       "      <td>Liverpool</td>\n",
       "      <td>Midfielder</td>\n",
       "      <td>344</td>\n",
       "      <td>9.052632</td>\n",
       "    </tr>\n",
       "    <tr>\n",
       "      <th>77</th>\n",
       "      <td>Bryan Mbeumo</td>\n",
       "      <td>Brentford</td>\n",
       "      <td>Midfielder</td>\n",
       "      <td>236</td>\n",
       "      <td>6.210526</td>\n",
       "    </tr>\n",
       "    <tr>\n",
       "      <th>314</th>\n",
       "      <td>Alexander Isak</td>\n",
       "      <td>Newcastle</td>\n",
       "      <td>Forward</td>\n",
       "      <td>211</td>\n",
       "      <td>6.205882</td>\n",
       "    </tr>\n",
       "    <tr>\n",
       "      <th>271</th>\n",
       "      <td>Erling Haaland</td>\n",
       "      <td>Man City</td>\n",
       "      <td>Forward</td>\n",
       "      <td>181</td>\n",
       "      <td>5.838710</td>\n",
       "    </tr>\n",
       "    <tr>\n",
       "      <th>132</th>\n",
       "      <td>Cole Palmer</td>\n",
       "      <td>Chelsea</td>\n",
       "      <td>Midfielder</td>\n",
       "      <td>214</td>\n",
       "      <td>5.783784</td>\n",
       "    </tr>\n",
       "  </tbody>\n",
       "</table>\n",
       "</div>"
      ],
      "text/plain": [
       "        player_name  team_name    position  total_points  \\\n",
       "253   Mohamed Salah  Liverpool  Midfielder           344   \n",
       "77     Bryan Mbeumo  Brentford  Midfielder           236   \n",
       "314  Alexander Isak  Newcastle     Forward           211   \n",
       "271  Erling Haaland   Man City     Forward           181   \n",
       "132     Cole Palmer    Chelsea  Midfielder           214   \n",
       "\n",
       "     points_per_appearance  \n",
       "253               9.052632  \n",
       "77                6.210526  \n",
       "314               6.205882  \n",
       "271               5.838710  \n",
       "132               5.783784  "
      ]
     },
     "metadata": {},
     "output_type": "display_data"
    }
   ],
   "source": [
    "# create summary df, aggregating weekly statistics\n",
    "#add in appeared column to aggregate number of appearances\n",
    "players_weekly_df['appeared'] = [1 if minutes > 0  else 0 for minutes in players_weekly_df['minutes']]\n",
    "players_weekly_df['goals_conceded_deductions'] = 0\n",
    "players_weekly_df.loc[players_weekly_df.position == 'Goalkeeper', 'goals_conceded_deductions'] = players_weekly_df['goals_conceded'] % 2\n",
    "players_weekly_df.loc[players_weekly_df.position == 'Defender', 'goals_conceded_deductions'] = players_weekly_df['goals_conceded'] % 2\n",
    "\n",
    "#set list of columns to aggregate by, removing columns that don't make sense to sum (i.e. fixture, kickoff_time, etc.) \n",
    "sum_columns = players_weekly_df.columns.to_list()\n",
    "remove_columns = ['Unnamed: 0', 'fixture', 'opponent_team_id', 'was_home', 'kickoff_time', 'team_h_score', 'team_a_score', 'round', 'modified',  'player_id', 'player_name', 'team_name', 'position', 'opponent_team_name']\n",
    "sum_columns = [col for col in sum_columns if col not in remove_columns]\n",
    "\n",
    "players_total_df = players_weekly_df.groupby('player_id')[sum_columns].sum().reset_index()\n",
    "\n",
    "#add in identifying position information\n",
    "join_df = players_weekly_df[['player_name', 'position', 'player_id', 'team_name']].drop_duplicates()\n",
    "players_total_df = players_total_df.join(join_df.set_index('player_id'), on='player_id')\n",
    "\n",
    "#rename columns to be more descriptive for summary df\n",
    "players_total_df = players_total_df.rename(columns={'value': 'total_value', \n",
    "                                          'appeared': 'total_appearances'})\n",
    "#add in aggregate statistics -- points_per_appearance, points_per_round, points_per_90, avg_weekly_value, avg_minutes_per_appearance\n",
    "players_total_df['points_per_appearance'] = players_total_df['total_points']/players_total_df['total_appearances']\n",
    "players_total_df['points_per_round'] = players_total_df['total_points']/38\n",
    "players_total_df['points_per_90'] = (players_total_df['total_points']/players_total_df['minutes'])*90\n",
    "players_total_df['avg_minutes_per_appearance'] = players_total_df['minutes']/players_total_df['total_appearances']\n",
    "players_total_df['avg_weekly_value'] = (players_total_df['total_value'])/38\n",
    "\n",
    "#top total points performers\n",
    "players_total_df = players_total_df.sort_values(by='total_points', ascending=False)\n",
    "display_columns = ['player_name', 'team_name', 'position', 'total_points', 'points_per_appearance']\n",
    "print('Top Total Points Performers:')\n",
    "display(players_total_df[display_columns].head())\n",
    "\n",
    "print('')\n",
    "print('Top Points per Appearance Performers:')\n",
    "players_total_df = players_total_df.sort_values(by='points_per_appearance', ascending=False)\n",
    "display(players_total_df[display_columns].head())"
   ]
  },
  {
   "cell_type": "markdown",
   "id": "705d5e41-e4cc-4a26-a5df-cb01ce791b4d",
   "metadata": {},
   "source": [
    "The top points getters are all midfielders and forwards. Let's get a sense of the spread of total_points by position with box plots."
   ]
  },
  {
   "cell_type": "code",
   "execution_count": 10,
   "id": "055dc76f-6138-44f1-8eab-6e6070bf060d",
   "metadata": {},
   "outputs": [
    {
     "data": {
      "image/png": "[encoded data removed]",
      "text/plain": [
       "<Figure size 640x480 with 1 Axes>"
      ]
     },
     "metadata": {},
     "output_type": "display_data"
    },
    {
     "data": {
      "text/plain": [
       "<Figure size 640x480 with 0 Axes>"
      ]
     },
     "metadata": {},
     "output_type": "display_data"
    }
   ],
   "source": [
    "sns.boxplot(data=players_total_df, x='total_points', y='position', hue='position')\n",
    "plt.title('Spread of Total Points per Position FPL 2024-2025')\n",
    "plt.show()\n",
    "plt.clf()"
   ]
  },
  {
   "cell_type": "markdown",
   "id": "7f0fbcfe-de6d-4d62-ab78-7f7a4e4c2c04",
   "metadata": {},
   "source": [
    "The results are a little surprising -- from these boxplots, it's clear that Mohammed Salah, Bryan Mbeumo, and Cole Palmer are outliers. There is not much variation in the median values of the four categories but the third quartiles for both Forward and Goalkeeper are higher than those for midfield. Forwards and Goalkeepers seem to be similar in that they have generally lower floors but also generally higher ceilings than midfielders. Let's see how things look when we look at points per appearance instead!"
   ]
  },
  {
   "cell_type": "code",
   "execution_count": 13,
   "id": "68573be2-a911-4cdf-9b83-0a082ee5f0a7",
   "metadata": {},
   "outputs": [
    {
     "data": {
      "image/png": "[encoded data removed]",
      "text/plain": [
       "<Figure size 640x480 with 1 Axes>"
      ]
     },
     "metadata": {},
     "output_type": "display_data"
    },
    {
     "data": {
      "text/plain": [
       "<Figure size 640x480 with 0 Axes>"
      ]
     },
     "metadata": {},
     "output_type": "display_data"
    }
   ],
   "source": [
    "sns.boxplot(data=players_total_df, x='points_per_appearance', y='position', hue='position')\n",
    "plt.title('Spread of Points per Appearance per Position FPL 2024-2025')\n",
    "plt.show()\n",
    "plt.clf()"
   ]
  },
  {
   "cell_type": "markdown",
   "id": "3fa4fb27-51f9-4072-afaf-92b940a409e8",
   "metadata": {},
   "source": [
    "Goalkeepers emerge as even stronger performers! However, this is likely due to how points are awarded based on minutes played. A player can earns 1 point for starting a match and playing up to 60 of the 90 minutes. They then get an addtional 2 points (for a total of 3) if they play past that 60 minute threshold. Goalkeepers are rarely substituted (often only in the case of injury) meaning that if they start, and they don't have a catastrophic day, they're usually good for at least 3 points. Let's see if this bears out by looking at the spread of average minutes per appearance."
   ]
  },
  {
   "cell_type": "code",
   "execution_count": 16,
   "id": "a360e508-cf0c-4a2f-b295-e9950841b306",
   "metadata": {},
   "outputs": [
    {
     "data": {
      "image/png": "[encoded data removed]",
      "text/plain": [
       "<Figure size 640x480 with 1 Axes>"
      ]
     },
     "metadata": {},
     "output_type": "display_data"
    },
    {
     "data": {
      "text/plain": [
       "<Figure size 640x480 with 0 Axes>"
      ]
     },
     "metadata": {},
     "output_type": "display_data"
    }
   ],
   "source": [
    "sns.boxplot(data=players_total_df, x='avg_minutes_per_appearance', y='position', hue='position')\n",
    "plt.title('Spread of Average Minutes per Appearance per Position FPL 2024-2025')\n",
    "plt.show()\n",
    "plt.clf()"
   ]
  },
  {
   "cell_type": "markdown",
   "id": "99f4b6ee-83e9-4aec-97b1-10c39e018f79",
   "metadata": {},
   "source": [
    "Playing anything less than 85 minutes in an appearance for a goalkeeper is considered an outlier! Now let's dive more into our lowly defenders and explore whether the points system is actually disadvantageous to them."
   ]
  },
  {
   "cell_type": "markdown",
   "id": "cb5edd89-4923-459d-9115-e7c595e87071",
   "metadata": {},
   "source": [
    "In FPL, players can only lose points for a handful of circumstances -- missing a penalty (-2), conceding 2 goals if you are a defender or goalkeeper (-1 for every set of 2 goals conceded in a match, i.e. -2 if your team conceded 4 goals in a match), receiving a yellow card (-1), receiving a red card (-3), and scoring an own goal (-2). On its face, these points deductions would seem to focus more on punishing defensive mistakes. But, let's investigate who is actually bearing the brunt of these deductions."
   ]
  },
  {
   "cell_type": "code",
   "execution_count": 22,
   "id": "517425e4-dad1-4a91-90b1-1aa84d6e31b5",
   "metadata": {},
   "outputs": [
    {
     "data": {
      "text/html": [
       "<div>\n",
       "<style scoped>\n",
       "    .dataframe tbody tr th:only-of-type {\n",
       "        vertical-align: middle;\n",
       "    }\n",
       "\n",
       "    .dataframe tbody tr th {\n",
       "        vertical-align: top;\n",
       "    }\n",
       "\n",
       "    .dataframe thead th {\n",
       "        text-align: right;\n",
       "    }\n",
       "</style>\n",
       "<table border=\"1\" class=\"dataframe\">\n",
       "  <thead>\n",
       "    <tr style=\"text-align: right;\">\n",
       "      <th></th>\n",
       "      <th>penalties_missed</th>\n",
       "      <th>own_goals</th>\n",
       "      <th>yellow_cards</th>\n",
       "      <th>red_cards</th>\n",
       "      <th>goals_conceded_deductions</th>\n",
       "      <th>total_points_deducted</th>\n",
       "      <th>total_players_per position</th>\n",
       "      <th>avg_deduction_total_season</th>\n",
       "    </tr>\n",
       "    <tr>\n",
       "      <th>position</th>\n",
       "      <th></th>\n",
       "      <th></th>\n",
       "      <th></th>\n",
       "      <th></th>\n",
       "      <th></th>\n",
       "      <th></th>\n",
       "      <th></th>\n",
       "      <th></th>\n",
       "    </tr>\n",
       "  </thead>\n",
       "  <tbody>\n",
       "    <tr>\n",
       "      <th>Defender</th>\n",
       "      <td>0</td>\n",
       "      <td>25</td>\n",
       "      <td>573</td>\n",
       "      <td>21</td>\n",
       "      <td>1562</td>\n",
       "      <td>2248</td>\n",
       "      <td>198</td>\n",
       "      <td>11.35</td>\n",
       "    </tr>\n",
       "    <tr>\n",
       "      <th>Goalkeeper</th>\n",
       "      <td>0</td>\n",
       "      <td>1</td>\n",
       "      <td>60</td>\n",
       "      <td>1</td>\n",
       "      <td>345</td>\n",
       "      <td>410</td>\n",
       "      <td>44</td>\n",
       "      <td>9.32</td>\n",
       "    </tr>\n",
       "    <tr>\n",
       "      <th>Midfielder</th>\n",
       "      <td>9</td>\n",
       "      <td>7</td>\n",
       "      <td>787</td>\n",
       "      <td>25</td>\n",
       "      <td>0</td>\n",
       "      <td>894</td>\n",
       "      <td>257</td>\n",
       "      <td>3.48</td>\n",
       "    </tr>\n",
       "    <tr>\n",
       "      <th>Forward</th>\n",
       "      <td>5</td>\n",
       "      <td>1</td>\n",
       "      <td>127</td>\n",
       "      <td>5</td>\n",
       "      <td>0</td>\n",
       "      <td>154</td>\n",
       "      <td>63</td>\n",
       "      <td>2.44</td>\n",
       "    </tr>\n",
       "  </tbody>\n",
       "</table>\n",
       "</div>"
      ],
      "text/plain": [
       "            penalties_missed  own_goals  yellow_cards  red_cards  \\\n",
       "position                                                           \n",
       "Defender                   0         25           573         21   \n",
       "Goalkeeper                 0          1            60          1   \n",
       "Midfielder                 9          7           787         25   \n",
       "Forward                    5          1           127          5   \n",
       "\n",
       "            goals_conceded_deductions  total_points_deducted  \\\n",
       "position                                                       \n",
       "Defender                         1562                   2248   \n",
       "Goalkeeper                        345                    410   \n",
       "Midfielder                          0                    894   \n",
       "Forward                             0                    154   \n",
       "\n",
       "            total_players_per position  avg_deduction_total_season  \n",
       "position                                                            \n",
       "Defender                           198                       11.35  \n",
       "Goalkeeper                          44                        9.32  \n",
       "Midfielder                         257                        3.48  \n",
       "Forward                             63                        2.44  "
      ]
     },
     "metadata": {},
     "output_type": "display_data"
    }
   ],
   "source": [
    "deductions_by_position = players_total_df.groupby('position')[['penalties_missed', 'own_goals', 'yellow_cards', 'red_cards', 'goals_conceded_deductions']].sum()\n",
    "deductions_by_position['total_points_deducted'] = deductions_by_position['penalties_missed']*2 + deductions_by_position['own_goals']*2 + deductions_by_position['yellow_cards']*1 + deductions_by_position['red_cards']*3 + deductions_by_position['goals_conceded_deductions']\n",
    "deductions_by_position['total_players_per position'] = players_total_df.groupby('position')['player_id'].count()\n",
    "deductions_by_position['avg_deduction_total_season'] = round(deductions_by_position['total_points_deducted'] / deductions_by_position['total_players_per position'], 2)\n",
    "deductions_by_position = deductions_by_position.sort_values(by='avg_deduction_total_season', ascending=False)\n",
    "display(deductions_by_position)"
   ]
  },
  {
   "cell_type": "markdown",
   "id": "5f6e9bd9-00b9-4e6c-8ed1-65d264cae7ce",
   "metadata": {},
   "source": [
    "Clearly defensive positions suffer most heavily from points deductions. Let's now see who can most reliably get awarded points."
   ]
  },
  {
   "cell_type": "code",
   "execution_count": null,
   "id": "07dc90f3-a62f-4782-bc14-acb5e611236a",
   "metadata": {},
   "outputs": [],
   "source": []
  }
 ],
 "metadata": {
  "kernelspec": {
   "display_name": "Python [conda env:base] *",
   "language": "python",
   "name": "conda-base-py"
  },
  "language_info": {
   "codemirror_mode": {
    "name": "ipython",
    "version": 3
   },
   "file_extension": ".py",
   "mimetype": "text/x-python",
   "name": "python",
   "nbconvert_exporter": "python",
   "pygments_lexer": "ipython3",
   "version": "3.12.7"
  }
 },
 "nbformat": 4,
 "nbformat_minor": 5
}
